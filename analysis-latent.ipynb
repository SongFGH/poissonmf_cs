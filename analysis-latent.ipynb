{
 "cells": [
  {
   "cell_type": "code",
   "execution_count": 169,
   "metadata": {
    "collapsed": false
   },
   "outputs": [],
   "source": [
    "import json\n",
    "import pandas as pd\n",
    "import numpy as np\n",
    "import scipy as sp\n",
    "import matplotlib\n",
    "import matplotlib.pyplot as plt"
   ]
  },
  {
   "cell_type": "code",
   "execution_count": 392,
   "metadata": {
    "collapsed": false
   },
   "outputs": [
    {
     "data": {
      "text/plain": [
       "'/home/eliezer/Dropbox/repo-phd/poissoncpp/datasets/hetrec2011/lastfm/p85_train_test_9208/experiment_wlearn_k50_it30_tol5_contw562.73_socw0.00_nrec1000_latent.json'"
      ]
     },
     "execution_count": 392,
     "metadata": {},
     "output_type": "execute_result"
    }
   ],
   "source": [
    "lst_latent_json=!grep \"##latent_var_file\" < long_experiment_p85_9208 | cut -d= -f2\n",
    "lst_latent_json[0]"
   ]
  },
  {
   "cell_type": "code",
   "execution_count": 367,
   "metadata": {
    "collapsed": false
   },
   "outputs": [
    {
     "name": "stdout",
     "output_type": "stream",
     "text": [
      "(11946, 1)\n",
      "(17632, 4)\n"
     ]
    }
   ],
   "source": [
    "top_k_x=lambda x3,dim,k:np.argpartition(x3[:,dim], -k)[-k:]\n",
    "sorted_top_k=lambda x3,dim,k:top_k_x(x3,dim,k)[np.argsort(x3[top_k_x(x3,dim,k),dim])[::-1]]\n",
    "tags = pd.read_csv('/home/eliezer/Dropbox/repo-phd/poissoncpp/datasets/hetrec2011/lastfm/p85_train_test_9208/tag_id_name.dat'\\\n",
    "                   ,names=['tags'],sep='\\t')\n",
    "artists = pd.read_csv('/home/eliezer/Dropbox/repo-phd/poissoncpp/datasets/hetrec2011/lastfm/artists.dat'\\\n",
    "                   ,sep='\\t')\n",
    "print tags.shape\n",
    "print artists.shape"
   ]
  },
  {
   "cell_type": "code",
   "execution_count": 391,
   "metadata": {
    "collapsed": false
   },
   "outputs": [
    {
     "name": "stdout",
     "output_type": "stream",
     "text": [
      "tau\n",
      "lambda_s\n",
      "epsilon\n",
      "experiment_report\n",
      "experiment_file\n",
      "time_load_train_recommend\n",
      "time_mem_alloc\n",
      "beta\n",
      "eta\n",
      "elbo_list\n",
      "time_iterations_lst\n",
      "time_recommend\n",
      "lambda_c\n",
      "theta\n",
      "time_train\n",
      "time_data_load\n",
      "time_init_train\n"
     ]
    }
   ],
   "source": [
    "\"\"\" with open(lst_latent_json[0], 'r') as f:\n",
    "    jlines=f.read().replace(\"=\",\":\").replace(\"]\\n[\",\"]\\n,[\").replace(\"'\",'\"')\\\n",
    "                        .replace('\"kdim\"',',\"kdim\"').replace('\"nvars\"',',\"nvars\"').replace('}\\n\\n\"','}\\n\\n,\"')\\\n",
    "        .replace('}\\n\"','}\\n,\"').replace('}\"','},\"').replace('\"experiment_file\"','\"experiment_file\":')\\\n",
    "                       .replace(\"/home\",'\"/home').replace(\".rec\",'.rec\",').replace(']\\n\"',']\\n,\"')\\\n",
    "                       .replace(',]',']').replace('\"time',',\"time')\\\n",
    "                        .replace(',,',',').split('\\n') \"\"\"\n",
    "\n",
    "with open(lst_latent_json[0], 'r') as f:\n",
    "    json_str=json.loads(f.read().replace(\"=\",\":\").replace(\"]\\n[\",\"]\\n,[\").replace(\"'\",'\"')\\\n",
    "                        .replace('\"kdim\"',',\"kdim\"').replace('\"nvars\"',',\"nvars\"').replace('}\\n\\n\"','}\\n\\n,\"')\\\n",
    "        .replace('}\\n\"','}\\n,\"').replace('}\"','},\"').replace('\"experiment_file\"','\"experiment_file\":')\\\n",
    "                       .replace(\"/home\",'\"/home').replace(\".rec\",'.rec\",').replace(']\\n\"',']\\n,\"')\\\n",
    "                       .replace(',]',']').replace('\"time',',\"time')\\\n",
    "                       .replace(',,',',').replace(',\\n,',','))\n",
    "print \"\\n\".join(json_str.keys())"
   ]
  },
  {
   "cell_type": "code",
   "execution_count": 370,
   "metadata": {
    "collapsed": false,
    "scrolled": false
   },
   "outputs": [
    {
     "name": "stdout",
     "output_type": "stream",
     "text": [
      "/home/eliezer/Dropbox/repo-phd/poissoncpp/datasets/hetrec2011/lastfm/p85_train_test_9208/experiment_wlearn_k50_it30_tol5_contw562.73_socw0.00_nrec1000.rec\n",
      "{u'nrec': 1000, u'precision_zero': 5, u'n_iterations': 30, u'init_social_weight': 50.0, u'isLearn': 1, u'social_weight': 0.0, u'k_latent_dim': 50, u'init_content_weight': 50.0, u'content_weight': 562.725417}\n",
      "(11946, 50)\n",
      "(1892, 1892)\n",
      "(17632, 50)\n",
      "(1892, 50)\n",
      "(17632, 50)\n"
     ]
    }
   ],
   "source": [
    "print json_str['experiment_file']\n",
    "print json_str['experiment_report']\n",
    "\n",
    "x=np.array(json_str['beta']['exp']['data'])\n",
    "print x.shape\n",
    "\n",
    "x2=np.array(json_str['tau']['exp']['data'])\n",
    "print x2.shape\n",
    "\n",
    "x3=np.array(json_str['theta']['exp']['data'])\n",
    "print x3.shape\n",
    "\n",
    "x4=np.array(json_str['eta']['exp']['data'])\n",
    "print x4.shape\n",
    "\n",
    "x5=np.array(json_str['epsilon']['exp']['data'])\n",
    "print x5.shape\n",
    "\n",
    "tags_latent=x\n",
    "artists_latent_pref=x3\n",
    "artists_latent_offset=x5\n",
    "user_latent=x4"
   ]
  },
  {
   "cell_type": "code",
   "execution_count": 371,
   "metadata": {
    "collapsed": false
   },
   "outputs": [
    {
     "name": "stdout",
     "output_type": "stream",
     "text": [
      "139         spring\n",
      "534            pop\n",
      "129    psychedelic\n",
      "23         ambient\n",
      "192          music\n",
      "Name: tags, dtype: object\n"
     ]
    }
   ],
   "source": [
    "print tags.loc[sorted_top_k(tags_latent,49,5)].tags"
   ]
  },
  {
   "cell_type": "code",
   "execution_count": 386,
   "metadata": {
    "collapsed": false
   },
   "outputs": [
    {
     "name": "stdout",
     "output_type": "stream",
     "text": [
      "[12 25]\n",
      "72         clicks\n",
      "78        october\n",
      "822          love\n",
      "77      recording\n",
      "80     recordings\n",
      "Name: tags, dtype: object\n",
      "538            pop\n",
      "80      recordings\n",
      "1956          nico\n",
      "194         female\n",
      "32         triphop\n",
      "Name: tags, dtype: object\n"
     ]
    }
   ],
   "source": [
    "print sorted_top_k(artists_latent_pref.T,2401,2)\n",
    "for k in sorted_top_k(artists_latent_pref.T,2401,2):\n",
    "    print tags.loc[sorted_top_k(tags_latent,k,5)].tags"
   ]
  },
  {
   "cell_type": "code",
   "execution_count": 542,
   "metadata": {
    "collapsed": false
   },
   "outputs": [
    {
     "data": {
      "text/plain": [
       "id                                                         4081\n",
       "name                                            Secret Chiefs 3\n",
       "url                    http://www.last.fm/music/Secret+Chiefs+3\n",
       "pictureURL    http://userserve-ak.last.fm/serve/252/18209337...\n",
       "Name: 4005, dtype: object"
      ]
     },
     "execution_count": 542,
     "metadata": {},
     "output_type": "execute_result"
    }
   ],
   "source": [
    "artists.iloc[4005]"
   ]
  },
  {
   "cell_type": "code",
   "execution_count": null,
   "metadata": {
    "collapsed": false
   },
   "outputs": [],
   "source": []
  },
  {
   "cell_type": "code",
   "execution_count": 394,
   "metadata": {
    "collapsed": false
   },
   "outputs": [
    {
     "data": {
      "text/plain": [
       "['/home/eliezer/Dropbox/repo-phd/poissoncpp/datasets/hetrec2011/lastfm/p85_train_test_834/experiment_wlearn_k50_it30_tol5_contw603.60_socw0.00_nrec1000_latent.json',\n",
       " '/home/eliezer/Dropbox/repo-phd/poissoncpp/datasets/hetrec2011/lastfm/p85_train_test_834/experiment_wlearn_k100_it30_tol5_contw171.71_socw0.00_nrec1000_latent.json',\n",
       " '/home/eliezer/Dropbox/repo-phd/poissoncpp/datasets/hetrec2011/lastfm/p85_train_test_834/experiment_wlearn_k150_it30_tol5_contw61.52_socw0.00_nrec1000_latent.json']"
      ]
     },
     "execution_count": 394,
     "metadata": {},
     "output_type": "execute_result"
    }
   ],
   "source": [
    "lst_latent_json2=!grep \"##latent_var_file\" < long_experiment2_p85_834 | cut -d= -f2\n",
    "lst_latent_json2"
   ]
  },
  {
   "cell_type": "code",
   "execution_count": 550,
   "metadata": {
    "collapsed": false
   },
   "outputs": [
    {
     "name": "stdout",
     "output_type": "stream",
     "text": [
      "(11946, 1)\n",
      "(17632, 4)\n"
     ]
    }
   ],
   "source": [
    "tags = pd.read_csv('/home/eliezer/Dropbox/repo-phd/poissoncpp/datasets/hetrec2011/lastfm/p85_train_test_834/tag_id_name.dat'\\\n",
    "                   ,names=['tags'],sep='\\t')\n",
    "artists = pd.read_csv('/home/eliezer/Dropbox/repo-phd/poissoncpp/datasets/hetrec2011/lastfm/artists.dat'\\\n",
    "                   ,sep='\\t')\n",
    "artists_tags = pd.read_csv('/home/eliezer/Dropbox/repo-phd/poissoncpp/datasets/hetrec2011/lastfm/p85_train_test_834/tag_artist_count.dat'\\\n",
    "                   ,sep='\\t',names=['artists','tags', 'count'])\n",
    "print tags.shape\n",
    "print artists.shape\n"
   ]
  },
  {
   "cell_type": "code",
   "execution_count": 504,
   "metadata": {
    "collapsed": false
   },
   "outputs": [],
   "source": [
    "with open(lst_latent_json2[1], 'r') as f:\n",
    "    x=f.readlines()\n",
    "    json_str2=json.loads(\"\".join(x).replace(',\\n]',']').replace('\"\"','\":\"'))\n"
   ]
  },
  {
   "cell_type": "code",
   "execution_count": 505,
   "metadata": {
    "collapsed": false
   },
   "outputs": [
    {
     "name": "stdout",
     "output_type": "stream",
     "text": [
      "[u'experiment_file', u'lambda_s', u'epsilon', u'experiment_report', u'time_load_train_recommend', u'time_mem_alloc', u'beta', u'eta', u'elbo_list', u'time_iterations_lst', u'time_recommend', u'lambda_c', u'theta', u'time_train', u'time_data_load', u'time_init_train']\n",
      "/home/eliezer/Dropbox/repo-phd/poissoncpp/datasets/hetrec2011/lastfm/p85_train_test_834/experiment_wlearn_k100_it30_tol5_contw171.71_socw0.00_nrec1000.rec\n",
      "{u'nrec': 1000, u'precision_zero': 5, u'n_iterations': 30, u'init_social_weight': 200.0, u'isLearn': u'1', u'social_weight': 4e-06, u'k_latent_dim': 100, u'init_content_weight': 200.0, u'content_weight': 171.709149}\n",
      "(11946, 100)\n",
      "(17632, 100)\n",
      "(1892, 100)\n",
      "(17632, 100)\n"
     ]
    }
   ],
   "source": [
    "print json_str2.keys()\n",
    "print json_str2['experiment_file']\n",
    "print json_str2['experiment_report']\n",
    "\n",
    "x=np.array(json_str2['beta']['exp']['data'])\n",
    "print x.shape\n",
    "\n",
    "#x2=np.array(json_str2['tau']['exp']['data'])\n",
    "#print x2.shape\n",
    "\n",
    "x3=np.array(json_str2['theta']['exp']['data'])\n",
    "print x3.shape\n",
    "\n",
    "x4=np.array(json_str2['eta']['exp']['data'])\n",
    "print x4.shape\n",
    "\n",
    "x5=np.array(json_str2['epsilon']['exp']['data'])\n",
    "print x5.shape\n",
    "\n",
    "tags_latent2=x\n",
    "artists_latent_pref2=x3\n",
    "artists_latent_offset2=x5\n",
    "user_latent2=x4"
   ]
  },
  {
   "cell_type": "code",
   "execution_count": 558,
   "metadata": {
    "collapsed": false
   },
   "outputs": [
    {
     "name": "stdout",
     "output_type": "stream",
     "text": [
      "[27 10 46]\n",
      "32          triphop\n",
      "274     belarussian\n",
      "86     melodramatic\n",
      "80       recordings\n",
      "384          garage\n",
      "Name: tags, dtype: object\n",
      "81        greece\n",
      "3           goth\n",
      "80    recordings\n",
      "6          metal\n",
      "75     databloem\n",
      "Name: tags, dtype: object\n",
      "258    cutie\n",
      "102      dub\n",
      "101      hop\n",
      "252     kpop\n",
      "184     york\n",
      "Name: tags, dtype: object\n",
      "###top tags\n",
      "             tags\n",
      "72         clicks\n",
      "32        triphop\n",
      "80     recordings\n",
      "191           hit\n",
      "17            ebm\n",
      "78        october\n",
      "274   belarussian\n",
      "23        ambient\n",
      "190          live\n",
      "86   melodramatic\n",
      "\n",
      "[10 rows x 1 columns]\n",
      "###training tags\n",
      "              tags\n",
      "31          lounge\n",
      "32         triphop\n",
      "77       recording\n",
      "86    melodramatic\n",
      "190           live\n",
      "2103      southern\n",
      "2713         metal\n",
      "6884         world\n",
      "6885         guess\n",
      "\n",
      "[9 rows x 1 columns]\n"
     ]
    }
   ],
   "source": [
    "art_id=4005\n",
    "print sorted_top_k(artists_latent_pref2.T,art_id,3)\n",
    "for k in sorted_top_k(artists_latent_pref2.T,art_id,3):\n",
    "    print tags.loc[sorted_top_k(tags_latent2,k,5)].tags\n",
    "    \n",
    "tags_artsx=np.inner(artists_latent_pref2[art_id,:].T,tags_latent2)\n",
    "\n",
    "print \"###top tags\"\n",
    "print tags.loc[np.argsort(tags_artsx)[::-1][0:10]]\n",
    "print \"###training tags\"\n",
    "print tags.loc[artists_tags[artists_tags.artists==art_id].tags]"
   ]
  },
  {
   "cell_type": "code",
   "execution_count": 567,
   "metadata": {
    "collapsed": false
   },
   "outputs": [
    {
     "data": {
      "text/plain": [
       "(934, 3)"
      ]
     },
     "execution_count": 567,
     "metadata": {},
     "output_type": "execute_result"
    }
   ],
   "source": []
  },
  {
   "cell_type": "code",
   "execution_count": null,
   "metadata": {
    "collapsed": false
   },
   "outputs": [],
   "source": []
  },
  {
   "cell_type": "code",
   "execution_count": null,
   "metadata": {
    "collapsed": true
   },
   "outputs": [],
   "source": []
  }
 ],
 "metadata": {
  "kernelspec": {
   "display_name": "Python 2",
   "language": "python",
   "name": "python2"
  },
  "language_info": {
   "codemirror_mode": {
    "name": "ipython",
    "version": 2
   },
   "file_extension": ".py",
   "mimetype": "text/x-python",
   "name": "python",
   "nbconvert_exporter": "python",
   "pygments_lexer": "ipython2",
   "version": "2.7.6"
  }
 },
 "nbformat": 4,
 "nbformat_minor": 0
}
