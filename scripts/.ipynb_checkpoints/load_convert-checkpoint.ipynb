{
 "cells": [
  {
   "cell_type": "code",
   "execution_count": 1,
   "metadata": {
    "collapsed": true
   },
   "outputs": [],
   "source": [
    "import pandas as pd\n",
    "import numpy as np\n",
    "import experiment_util as exper"
   ]
  },
  {
   "cell_type": "code",
   "execution_count": 122,
   "metadata": {
    "collapsed": false
   },
   "outputs": [],
   "source": [
    "datafolder = '/home/eliezer/datasets/hetrec2011/lastfm/'\n",
    "userfriends = np.loadtxt(datafolder+\"user_friends.dat\", delimiter='\\t',skiprows=1,dtype=int)\n",
    "userartists = np.loadtxt(datafolder+\"user_artists.dat\", delimiter='\\t',skiprows=1,dtype=int)\n",
    "ua_tag = np.loadtxt(datafolder+\"user_taggedartists.dat\", delimiter='\\t',skiprows=1,dtype=int)\n",
    "\n",
    "artists_id = np.unique(userartists[:,1])\n",
    "users_id = np.unique(userartists[:,0])\n",
    "max_rating_users=np.array([np.max(userartists[userartists[:,0]==x,2]) for x in users_id])\n"
   ]
  },
  {
   "cell_type": "code",
   "execution_count": 123,
   "metadata": {
    "collapsed": true
   },
   "outputs": [],
   "source": [
    "artists_inv_id=dict(zip(artists_id,xrange(len(artists_id))))\n",
    "users_inv_id=dict(zip(users_id,xrange(len(users_id))))"
   ]
  },
  {
   "cell_type": "code",
   "execution_count": 124,
   "metadata": {
    "collapsed": true
   },
   "outputs": [],
   "source": [
    "### gera a lista de amigos usando o indice do array e nao o id que veio do sistema\n",
    "list_friends_id= [ [users_inv_id[friend_id] for friend_id in userfriends[userfriends[:,0]==u_id][:,1]]\\\n",
    "                  for u_id in users_id]\n",
    "\n",
    "### pegar o indice de todas as tags de um artista\n",
    "artists_tags_id= [ ua_tag[ua_tag[:,1]==a_id][:,2] for a_id in artists_id ]"
   ]
  },
  {
   "cell_type": "code",
   "execution_count": 125,
   "metadata": {
    "collapsed": false
   },
   "outputs": [],
   "source": [
    "temp=np.apply_along_axis( lambda x:[users_inv_id[x[0]],artists_inv_id[x[1]],int(np.ceil(np.log(x[2])))]\\\n",
    "                         , axis=1, arr=userartists)"
   ]
  },
  {
   "cell_type": "code",
   "execution_count": 14,
   "metadata": {
    "collapsed": false
   },
   "outputs": [],
   "source": [
    "datafolder = datafolder+'/home/eliezer/datasets/hetrec2011/lastfm/transformed/'\n",
    "new_userartists_log = np.apply_along_axis( lambda x:[users_inv_id[x[0]],artists_inv_id[x[1]]\\\n",
    "                                                     ,int(np.ceil(np.log(x[2])))], axis=1, arr=userartists)\n",
    "np.savetxt(datafolder+\"v1_log_user_artists.dat\",new_userartists_log,delimiter='\\t')"
   ]
  },
  {
   "cell_type": "code",
   "execution_count": 138,
   "metadata": {
    "collapsed": false
   },
   "outputs": [],
   "source": [
    "datafolder = '/home/eliezer/datasets/hetrec2011/lastfm/transformed/'\n",
    "new_list_friends_id=np.array([ (i, item_i)  for i, item in enumerate(list_friends_id) for item_i in item])\n",
    "np.savetxt(datafolder+\"v1_user_friends.dat\",new_list_friends_id,delimiter='\\t',fmt='%i')"
   ]
  },
  {
   "cell_type": "code",
   "execution_count": 121,
   "metadata": {
    "collapsed": false
   },
   "outputs": [
    {
     "name": "stdout",
     "output_type": "stream",
     "text": [
      "train percentage =  80.0\n",
      "sampling training indices\n",
      "max_train_idx= 92833\n",
      "calculating testing indices\n",
      "max_test_idx= 92825\n",
      "build dense matrixes\n"
     ]
    }
   ],
   "source": [
    "datafolder = '/home/eliezer/datasets/hetrec2011/lastfm/'\n",
    "from load_convert import LoadModify\n",
    "loader=LoadModify(datafolder)\n",
    "loader.load()\n",
    "R = loader.mat_users_artists_train.T\n",
    "W = loader.mat_artists_tags\n",
    "S = loader.list_friends_id\n",
    "datafolder = '/home/eliezer/datasets/hetrec2011/lastfm/transformed/'"
   ]
  },
  {
   "cell_type": "code",
   "execution_count": 130,
   "metadata": {
    "collapsed": false
   },
   "outputs": [
    {
     "name": "stdout",
     "output_type": "stream",
     "text": [
      "(108437, 3)\n"
     ]
    },
    {
     "data": {
      "text/plain": [
       "array([  0, 138,   5])"
      ]
     },
     "execution_count": 130,
     "metadata": {},
     "output_type": "execute_result"
    }
   ],
   "source": [
    "W = np.array(loader.mat_artists_tags,dtype=int)\n",
    "print W.shape\n",
    "W[0]"
   ]
  },
  {
   "cell_type": "code",
   "execution_count": 131,
   "metadata": {
    "collapsed": false
   },
   "outputs": [
    {
     "data": {
      "text/plain": [
       "array([    0,    47, 11351])"
      ]
     },
     "execution_count": 131,
     "metadata": {},
     "output_type": "execute_result"
    }
   ],
   "source": [
    "loader.list_test[0]"
   ]
  },
  {
   "cell_type": "code",
   "execution_count": 132,
   "metadata": {
    "collapsed": false
   },
   "outputs": [
    {
     "data": {
      "text/plain": [
       "array([    0,    45, 13883])"
      ]
     },
     "execution_count": 132,
     "metadata": {},
     "output_type": "execute_result"
    }
   ],
   "source": [
    "loader.list_train[0]"
   ]
  },
  {
   "cell_type": "code",
   "execution_count": 141,
   "metadata": {
    "collapsed": false
   },
   "outputs": [
    {
     "name": "stdout",
     "output_type": "stream",
     "text": [
      "[257, 400, 482, 709, 772, 838, 1102, 1103, 1121, 1203, 1431, 1466, 1689]\n",
      "[257, 400, 482, 709, 772, 838, 1102, 1103, 1121, 1203, 1431, 1466, 1689]\n"
     ]
    }
   ],
   "source": [
    "print loader.list_friends_id[0]\n",
    "print list_friends_id[0]"
   ]
  },
  {
   "cell_type": "code",
   "execution_count": 79,
   "metadata": {
    "collapsed": false
   },
   "outputs": [],
   "source": [
    "#import pickle as pk\n",
    "#pk.dump(loader, open( loader.rootfolder+\"loader.pk\", \"wb\" ) )"
   ]
  },
  {
   "cell_type": "code",
   "execution_count": 158,
   "metadata": {
    "collapsed": false
   },
   "outputs": [
    {
     "data": {
      "text/plain": [
       "<module 'load_convert' from 'load_convert.py'>"
      ]
     },
     "execution_count": 158,
     "metadata": {},
     "output_type": "execute_result"
    }
   ],
   "source": [
    "import load_convert\n",
    "reload(load_convert)"
   ]
  },
  {
   "cell_type": "code",
   "execution_count": 137,
   "metadata": {
    "collapsed": false
   },
   "outputs": [],
   "source": [
    "datafolder = '/home/eliezer/datasets/hetrec2011/lastfm/transformed/'\n",
    "np.savetxt(datafolder+\"user_artist_rating.train\",loader.list_train,fmt='%i',delimiter='\\t')\n",
    "np.savetxt(datafolder+\"user_artist_rating.test\",loader.list_test,fmt='%i',delimiter='\\t')\n",
    "\n",
    "new_list_friends_id=np.array([ (i, item_i)  for i, item in enumerate(loader.list_friends_id) for item_i in item])\n",
    "np.savetxt(datafolder+\"v1_user_friends.dat\",new_list_friends_id,delimiter='\\t',fmt='%i')\n",
    "\n",
    "W = np.array(loader.mat_artists_tags,dtype=int)\n",
    "np.savetxt(datafolder+\"tag_artist_count.dat\",W,fmt='%i',delimiter='\\t')\n",
    "\n",
    "# keep a list with tags and index\n",
    "tags_id_name=np.array(zip([loader.tags_inv_id[x] for x in loader.tags_id],loader.generate_artists_tags(loader.tags_id)))\n",
    "pd.DataFrame(tags_id_name[:,1],index=tags_id_name[:,0],columns=['tag'])\\\n",
    ".to_csv(datafolder+\"tag_id_name.dat\",sep='\\t',header=False)"
   ]
  },
  {
   "cell_type": "code",
   "execution_count": 109,
   "metadata": {
    "collapsed": false
   },
   "outputs": [],
   "source": []
  },
  {
   "cell_type": "code",
   "execution_count": 110,
   "metadata": {
    "collapsed": false
   },
   "outputs": [],
   "source": [
    "\n",
    "#np.savetxt(datafolder+\"tag_id_name.dat\",tags_id_name,delimiter='\\t')"
   ]
  },
  {
   "cell_type": "code",
   "execution_count": null,
   "metadata": {
    "collapsed": false
   },
   "outputs": [
    {
     "name": "stdout",
     "output_type": "stream",
     "text": [
      "train percentage =  85.0\n"
     ]
    }
   ],
   "source": [
    "datafolder = '/home/eliezer/datasets/hetrec2011/lastfm/'\n",
    "from load_convert import LoadModify\n",
    "loader=LoadModify(datafolder)\n",
    "loader.load_save(0.85)\n",
    "#tag_id tag_name {tag_id_name.dat}\n",
    "# art_id tag_id tag_count {tag_artist_count.dat}\n",
    "# user_id art_id user_art_count {user_artist_rating.test  user_artist_rating.train}\n",
    "# user_id friend_id {v1_user_friends.dat}"
   ]
  },
  {
   "cell_type": "code",
   "execution_count": null,
   "metadata": {
    "collapsed": false
   },
   "outputs": [],
   "source": [
    "loader.load_save(0.80)\n",
    "#tag_id tag_name {tag_id_name.dat}\n",
    "# art_id tag_id tag_count {tag_artist_count.dat}\n",
    "# user_id art_id user_art_count {user_artist_rating.test  user_artist_rating.train}\n",
    "# user_id friend_id {v1_user_friends.dat}"
   ]
  },
  {
   "cell_type": "code",
   "execution_count": null,
   "metadata": {
    "collapsed": true
   },
   "outputs": [],
   "source": []
  }
 ],
 "metadata": {
  "kernelspec": {
   "display_name": "Python 2",
   "language": "python",
   "name": "python2"
  },
  "language_info": {
   "codemirror_mode": {
    "name": "ipython",
    "version": 2
   },
   "file_extension": ".py",
   "mimetype": "text/x-python",
   "name": "python",
   "nbconvert_exporter": "python",
   "pygments_lexer": "ipython2",
   "version": "2.7.6"
  }
 },
 "nbformat": 4,
 "nbformat_minor": 1
}
