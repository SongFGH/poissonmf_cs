{
 "cells": [
  {
   "cell_type": "code",
   "execution_count": 1,
   "metadata": {
    "collapsed": true
   },
   "outputs": [],
   "source": [
    "import pandas as pd\n",
    "import numpy as np\n",
    "import experiment_util as exper"
   ]
  },
  {
   "cell_type": "code",
   "execution_count": 122,
   "metadata": {
    "collapsed": false
   },
   "outputs": [],
   "source": [
    "datafolder = '/home/eliezer/datasets/hetrec2011/lastfm/'\n",
    "userfriends = np.loadtxt(datafolder+\"user_friends.dat\", delimiter='\\t',skiprows=1,dtype=int)\n",
    "userartists = np.loadtxt(datafolder+\"user_artists.dat\", delimiter='\\t',skiprows=1,dtype=int)\n",
    "ua_tag = np.loadtxt(datafolder+\"user_taggedartists.dat\", delimiter='\\t',skiprows=1,dtype=int)\n",
    "\n",
    "artists_id = np.unique(userartists[:,1])\n",
    "users_id = np.unique(userartists[:,0])\n",
    "max_rating_users=np.array([np.max(userartists[userartists[:,0]==x,2]) for x in users_id])\n"
   ]
  },
  {
   "cell_type": "code",
   "execution_count": 123,
   "metadata": {
    "collapsed": true
   },
   "outputs": [],
   "source": [
    "artists_inv_id=dict(zip(artists_id,xrange(len(artists_id))))\n",
    "users_inv_id=dict(zip(users_id,xrange(len(users_id))))"
   ]
  },
  {
   "cell_type": "code",
   "execution_count": 124,
   "metadata": {
    "collapsed": true
   },
   "outputs": [],
   "source": [
    "### gera a lista de amigos usando o indice do array e nao o id que veio do sistema\n",
    "list_friends_id= [ [users_inv_id[friend_id] for friend_id in userfriends[userfriends[:,0]==u_id][:,1]]\\\n",
    "                  for u_id in users_id]\n",
    "\n",
    "### pegar o indice de todas as tags de um artista\n",
    "artists_tags_id= [ ua_tag[ua_tag[:,1]==a_id][:,2] for a_id in artists_id ]"
   ]
  },
  {
   "cell_type": "code",
   "execution_count": 125,
   "metadata": {
    "collapsed": false
   },
   "outputs": [],
   "source": [
    "temp=np.apply_along_axis( lambda x:[users_inv_id[x[0]],artists_inv_id[x[1]],int(np.ceil(np.log(x[2])))]\\\n",
    "                         , axis=1, arr=userartists)"
   ]
  },
  {
   "cell_type": "code",
   "execution_count": 14,
   "metadata": {
    "collapsed": false
   },
   "outputs": [],
   "source": [
    "datafolder = datafolder+'/home/eliezer/datasets/hetrec2011/lastfm/transformed/'\n",
    "new_userartists_log = np.apply_along_axis( lambda x:[users_inv_id[x[0]],artists_inv_id[x[1]]\\\n",
    "                                                     ,int(np.ceil(np.log(x[2])))], axis=1, arr=userartists)\n",
    "np.savetxt(datafolder+\"v1_log_user_artists.dat\",new_userartists_log,delimiter='\\t')"
   ]
  },
  {
   "cell_type": "code",
   "execution_count": 138,
   "metadata": {
    "collapsed": false
   },
   "outputs": [],
   "source": [
    "datafolder = '/home/eliezer/datasets/hetrec2011/lastfm/transformed/'\n",
    "new_list_friends_id=np.array([ (i, item_i)  for i, item in enumerate(list_friends_id) for item_i in item])\n",
    "np.savetxt(datafolder+\"v1_user_friends.dat\",new_list_friends_id,delimiter='\\t',fmt='%i')"
   ]
  },
  {
   "cell_type": "code",
   "execution_count": 121,
   "metadata": {
    "collapsed": false
   },
   "outputs": [
    {
     "name": "stdout",
     "output_type": "stream",
     "text": [
      "train percentage =  80.0\n",
      "sampling training indices\n",
      "max_train_idx= 92833\n",
      "calculating testing indices\n",
      "max_test_idx= 92825\n",
      "build dense matrixes\n"
     ]
    }
   ],
   "source": [
    "datafolder = '/home/eliezer/datasets/hetrec2011/lastfm/'\n",
    "from load_convert import LoadModify\n",
    "loader=LoadModify(datafolder)\n",
    "loader.load()\n",
    "R = loader.mat_users_artists_train.T\n",
    "W = loader.mat_artists_tags\n",
    "S = loader.list_friends_id\n",
    "datafolder = '/home/eliezer/datasets/hetrec2011/lastfm/transformed/'"
   ]
  },
  {
   "cell_type": "code",
   "execution_count": 130,
   "metadata": {
    "collapsed": false
   },
   "outputs": [
    {
     "name": "stdout",
     "output_type": "stream",
     "text": [
      "(108437, 3)\n"
     ]
    },
    {
     "data": {
      "text/plain": [
       "array([  0, 138,   5])"
      ]
     },
     "execution_count": 130,
     "metadata": {},
     "output_type": "execute_result"
    }
   ],
   "source": [
    "W = np.array(loader.mat_artists_tags,dtype=int)\n",
    "print W.shape\n",
    "W[0]"
   ]
  },
  {
   "cell_type": "code",
   "execution_count": 131,
   "metadata": {
    "collapsed": false
   },
   "outputs": [
    {
     "data": {
      "text/plain": [
       "array([    0,    47, 11351])"
      ]
     },
     "execution_count": 131,
     "metadata": {},
     "output_type": "execute_result"
    }
   ],
   "source": [
    "loader.list_test[0]"
   ]
  },
  {
   "cell_type": "code",
   "execution_count": 132,
   "metadata": {
    "collapsed": false
   },
   "outputs": [
    {
     "data": {
      "text/plain": [
       "array([    0,    45, 13883])"
      ]
     },
     "execution_count": 132,
     "metadata": {},
     "output_type": "execute_result"
    }
   ],
   "source": [
    "loader.list_train[0]"
   ]
  },
  {
   "cell_type": "code",
   "execution_count": 141,
   "metadata": {
    "collapsed": false
   },
   "outputs": [
    {
     "name": "stdout",
     "output_type": "stream",
     "text": [
      "[257, 400, 482, 709, 772, 838, 1102, 1103, 1121, 1203, 1431, 1466, 1689]\n",
      "[257, 400, 482, 709, 772, 838, 1102, 1103, 1121, 1203, 1431, 1466, 1689]\n"
     ]
    }
   ],
   "source": [
    "print loader.list_friends_id[0]\n",
    "print list_friends_id[0]"
   ]
  },
  {
   "cell_type": "code",
   "execution_count": 79,
   "metadata": {
    "collapsed": false
   },
   "outputs": [],
   "source": [
    "#import pickle as pk\n",
    "#pk.dump(loader, open( loader.rootfolder+\"loader.pk\", \"wb\" ) )"
   ]
  },
  {
   "cell_type": "code",
   "execution_count": 158,
   "metadata": {
    "collapsed": false
   },
   "outputs": [
    {
     "data": {
      "text/plain": [
       "<module 'load_convert' from 'load_convert.py'>"
      ]
     },
     "execution_count": 158,
     "metadata": {},
     "output_type": "execute_result"
    }
   ],
   "source": [
    "import load_convert\n",
    "reload(load_convert)"
   ]
  },
  {
   "cell_type": "code",
   "execution_count": 137,
   "metadata": {
    "collapsed": false
   },
   "outputs": [],
   "source": [
    "datafolder = '/home/eliezer/datasets/hetrec2011/lastfm/transformed/'\n",
    "np.savetxt(datafolder+\"user_artist_rating.train\",loader.list_train,fmt='%i',delimiter='\\t')\n",
    "np.savetxt(datafolder+\"user_artist_rating.test\",loader.list_test,fmt='%i',delimiter='\\t')\n",
    "\n",
    "new_list_friends_id=np.array([ (i, item_i)  for i, item in enumerate(loader.list_friends_id) for item_i in item])\n",
    "np.savetxt(datafolder+\"v1_user_friends.dat\",new_list_friends_id,delimiter='\\t',fmt='%i')\n",
    "\n",
    "W = np.array(loader.mat_artists_tags,dtype=int)\n",
    "np.savetxt(datafolder+\"tag_artist_count.dat\",W,fmt='%i',delimiter='\\t')\n",
    "\n",
    "# keep a list with tags and index\n",
    "tags_id_name=np.array(zip([loader.tags_inv_id[x] for x in loader.tags_id],loader.generate_artists_tags(loader.tags_id)))\n",
    "pd.DataFrame(tags_id_name[:,1],index=tags_id_name[:,0],columns=['tag'])\\\n",
    ".to_csv(datafolder+\"tag_id_name.dat\",sep='\\t',header=False)"
   ]
  },
  {
   "cell_type": "code",
   "execution_count": 109,
   "metadata": {
    "collapsed": false
   },
   "outputs": [],
   "source": []
  },
  {
   "cell_type": "code",
   "execution_count": 110,
   "metadata": {
    "collapsed": false
   },
   "outputs": [],
   "source": [
    "\n",
    "#np.savetxt(datafolder+\"tag_id_name.dat\",tags_id_name,delimiter='\\t')"
   ]
  },
  {
   "cell_type": "code",
   "execution_count": 2,
   "metadata": {
    "collapsed": false
   },
   "outputs": [
    {
     "name": "stdout",
     "output_type": "stream",
     "text": [
      "train percentage =  80.0\n"
     ]
    },
    {
     "ename": "KeyboardInterrupt",
     "evalue": "",
     "output_type": "error",
     "traceback": [
      "\u001b[0;31m---------------------------------------------------------------------------\u001b[0m",
      "\u001b[0;31mKeyboardInterrupt\u001b[0m                         Traceback (most recent call last)",
      "\u001b[0;32m<ipython-input-2-3c2191212d7b>\u001b[0m in \u001b[0;36m<module>\u001b[0;34m()\u001b[0m\n\u001b[1;32m      2\u001b[0m \u001b[0;32mfrom\u001b[0m \u001b[0mload_convert\u001b[0m \u001b[0;32mimport\u001b[0m \u001b[0mLoadModify\u001b[0m\u001b[0;34m\u001b[0m\u001b[0m\n\u001b[1;32m      3\u001b[0m \u001b[0mloader\u001b[0m\u001b[0;34m=\u001b[0m\u001b[0mLoadModify\u001b[0m\u001b[0;34m(\u001b[0m\u001b[0mdatafolder\u001b[0m\u001b[0;34m)\u001b[0m\u001b[0;34m\u001b[0m\u001b[0m\n\u001b[0;32m----> 4\u001b[0;31m \u001b[0mloader\u001b[0m\u001b[0;34m.\u001b[0m\u001b[0mload_save\u001b[0m\u001b[0;34m(\u001b[0m\u001b[0;36m0.8\u001b[0m\u001b[0;34m)\u001b[0m\u001b[0;34m\u001b[0m\u001b[0m\n\u001b[0m\u001b[1;32m      5\u001b[0m \u001b[0;31m#tag_id tag_name {tag_id_name.dat}\u001b[0m\u001b[0;34m\u001b[0m\u001b[0;34m\u001b[0m\u001b[0m\n\u001b[1;32m      6\u001b[0m \u001b[0;31m# art_id tag_id tag_count {tag_artist_count.dat}\u001b[0m\u001b[0;34m\u001b[0m\u001b[0;34m\u001b[0m\u001b[0m\n",
      "\u001b[0;32m/home/eliezer/Dropbox/repo-phd/poissoncpp/scripts/load_convert.pyc\u001b[0m in \u001b[0;36mload_save\u001b[0;34m(self, train_percentage)\u001b[0m\n\u001b[1;32m     43\u001b[0m             \u001b[0;32mif\u001b[0m \u001b[0;32mnot\u001b[0m \u001b[0mos\u001b[0m\u001b[0;34m.\u001b[0m\u001b[0mpath\u001b[0m\u001b[0;34m.\u001b[0m\u001b[0misdir\u001b[0m\u001b[0;34m(\u001b[0m\u001b[0mself\u001b[0m\u001b[0;34m.\u001b[0m\u001b[0mrootfolder\u001b[0m \u001b[0;34m+\u001b[0m\u001b[0mself\u001b[0m\u001b[0;34m.\u001b[0m\u001b[0msave\u001b[0m\u001b[0;34m)\u001b[0m\u001b[0;34m:\u001b[0m\u001b[0;34m\u001b[0m\u001b[0m\n\u001b[1;32m     44\u001b[0m                 \u001b[0;32mraise\u001b[0m\u001b[0;34m\u001b[0m\u001b[0m\n\u001b[0;32m---> 45\u001b[0;31m         \u001b[0mself\u001b[0m\u001b[0;34m.\u001b[0m\u001b[0mload\u001b[0m\u001b[0;34m(\u001b[0m\u001b[0mtrain_percentage\u001b[0m\u001b[0;34m)\u001b[0m\u001b[0;34m\u001b[0m\u001b[0m\n\u001b[0m\u001b[1;32m     46\u001b[0m         \u001b[0mW\u001b[0m \u001b[0;34m=\u001b[0m \u001b[0mself\u001b[0m\u001b[0;34m.\u001b[0m\u001b[0mmat_artists_tags\u001b[0m\u001b[0;34m\u001b[0m\u001b[0m\n\u001b[1;32m     47\u001b[0m         \u001b[0mS\u001b[0m \u001b[0;34m=\u001b[0m \u001b[0mself\u001b[0m\u001b[0;34m.\u001b[0m\u001b[0mlist_friends_id\u001b[0m\u001b[0;34m\u001b[0m\u001b[0m\n",
      "\u001b[0;32m/home/eliezer/Dropbox/repo-phd/poissoncpp/scripts/load_convert.pyc\u001b[0m in \u001b[0;36mload\u001b[0;34m(self, train_percentage)\u001b[0m\n\u001b[1;32m    105\u001b[0m         \u001b[0mself\u001b[0m\u001b[0;34m.\u001b[0m\u001b[0mn_max_friends\u001b[0m \u001b[0;34m=\u001b[0m \u001b[0mnp\u001b[0m\u001b[0;34m.\u001b[0m\u001b[0mmax\u001b[0m\u001b[0;34m(\u001b[0m\u001b[0mnp\u001b[0m\u001b[0;34m.\u001b[0m\u001b[0marray\u001b[0m\u001b[0;34m(\u001b[0m\u001b[0;34m[\u001b[0m\u001b[0mlen\u001b[0m\u001b[0;34m(\u001b[0m\u001b[0mx\u001b[0m\u001b[0;34m)\u001b[0m \u001b[0;32mfor\u001b[0m \u001b[0mx\u001b[0m \u001b[0;32min\u001b[0m \u001b[0mself\u001b[0m\u001b[0;34m.\u001b[0m\u001b[0mlist_friends_id\u001b[0m\u001b[0;34m]\u001b[0m\u001b[0;34m)\u001b[0m\u001b[0;34m)\u001b[0m\u001b[0;34m\u001b[0m\u001b[0m\n\u001b[1;32m    106\u001b[0m         \u001b[0mself\u001b[0m\u001b[0;34m.\u001b[0m\u001b[0mn_users\u001b[0m \u001b[0;34m=\u001b[0m \u001b[0mself\u001b[0m\u001b[0;34m.\u001b[0m\u001b[0musers_id\u001b[0m\u001b[0;34m.\u001b[0m\u001b[0msize\u001b[0m\u001b[0;34m\u001b[0m\u001b[0m\n\u001b[0;32m--> 107\u001b[0;31m         \u001b[0mself\u001b[0m\u001b[0;34m.\u001b[0m\u001b[0mmake_tag_matrix\u001b[0m\u001b[0;34m(\u001b[0m\u001b[0;34m)\u001b[0m\u001b[0;34m\u001b[0m\u001b[0m\n\u001b[0m\u001b[1;32m    108\u001b[0m         \u001b[0;31m#self.make_user_item_matrix(userartists)\u001b[0m\u001b[0;34m\u001b[0m\u001b[0;34m\u001b[0m\u001b[0m\n\u001b[1;32m    109\u001b[0m         \u001b[0mself\u001b[0m\u001b[0;34m.\u001b[0m\u001b[0mmake_train_test_matrix\u001b[0m\u001b[0;34m(\u001b[0m\u001b[0muserartists\u001b[0m\u001b[0;34m)\u001b[0m\u001b[0;34m\u001b[0m\u001b[0m\n",
      "\u001b[0;32m/home/eliezer/Dropbox/repo-phd/poissoncpp/scripts/load_convert.pyc\u001b[0m in \u001b[0;36mmake_tag_matrix\u001b[0;34m(self)\u001b[0m\n\u001b[1;32m    118\u001b[0m             \u001b[0mcount\u001b[0m\u001b[0;34m=\u001b[0m\u001b[0mcount_to_array\u001b[0m\u001b[0;34m(\u001b[0m \u001b[0martist_tags\u001b[0m\u001b[0;34m,\u001b[0m \u001b[0mself\u001b[0m\u001b[0;34m.\u001b[0m\u001b[0mn_tags\u001b[0m \u001b[0;34m)\u001b[0m\u001b[0;34m\u001b[0m\u001b[0m\n\u001b[1;32m    119\u001b[0m             \u001b[0;31m#print count\u001b[0m\u001b[0;34m\u001b[0m\u001b[0;34m\u001b[0m\u001b[0m\n\u001b[0;32m--> 120\u001b[0;31m             \u001b[0mself\u001b[0m\u001b[0;34m.\u001b[0m\u001b[0mmat_artists_tags\u001b[0m\u001b[0;34m+=\u001b[0m\u001b[0;34m[\u001b[0m\u001b[0;34m[\u001b[0m\u001b[0mpos\u001b[0m\u001b[0;34m,\u001b[0m\u001b[0mtag_idx\u001b[0m\u001b[0;34m,\u001b[0m\u001b[0mtagc\u001b[0m\u001b[0;34m]\u001b[0m \u001b[0;32mfor\u001b[0m \u001b[0mtag_idx\u001b[0m\u001b[0;34m,\u001b[0m\u001b[0mtagc\u001b[0m \u001b[0;32min\u001b[0m \u001b[0menumerate\u001b[0m\u001b[0;34m(\u001b[0m\u001b[0mcount\u001b[0m\u001b[0;34m)\u001b[0m \u001b[0;32mif\u001b[0m \u001b[0mtagc\u001b[0m\u001b[0;34m>\u001b[0m\u001b[0;36m0\u001b[0m\u001b[0;34m]\u001b[0m\u001b[0;34m\u001b[0m\u001b[0m\n\u001b[0m\u001b[1;32m    121\u001b[0m \u001b[0;34m\u001b[0m\u001b[0m\n\u001b[1;32m    122\u001b[0m     \u001b[0;32mdef\u001b[0m \u001b[0mmake_user_item_matrix\u001b[0m\u001b[0;34m(\u001b[0m\u001b[0mself\u001b[0m\u001b[0;34m,\u001b[0m\u001b[0muser_artist_tuple\u001b[0m\u001b[0;34m)\u001b[0m\u001b[0;34m:\u001b[0m\u001b[0;34m\u001b[0m\u001b[0m\n",
      "\u001b[0;31mKeyboardInterrupt\u001b[0m: "
     ]
    }
   ],
   "source": [
    "datafolder = '/home/eliezer/datasets/hetrec2011/lastfm/'\n",
    "from load_convert import LoadModify\n",
    "loader=LoadModify(datafolder)\n",
    "loader.load_save(0.8)\n",
    "#tag_id tag_name {tag_id_name.dat}\n",
    "# art_id tag_id tag_count {tag_artist_count.dat}\n",
    "# user_id art_id user_art_count {user_artist_rating.test  user_artist_rating.train}\n",
    "# user_id friend_id {v1_user_friends.dat}"
   ]
  },
  {
   "cell_type": "code",
   "execution_count": 160,
   "metadata": {
    "collapsed": false
   },
   "outputs": [
    {
     "name": "stdout",
     "output_type": "stream",
     "text": [
      "train percentage =  80.0\n",
      "sampling training indices\n",
      "max_train_idx= 92831\n",
      "calculating testing indices\n",
      "max_test_idx= 92833\n",
      "build dense matrixes\n",
      "saving to /home/eliezer/datasets/hetrec2011/lastfm/p85_train_test_834/\n"
     ]
    }
   ],
   "source": [
    "loader.load_save(0.80)\n",
    "#tag_id tag_name {tag_id_name.dat}\n",
    "# art_id tag_id tag_count {tag_artist_count.dat}\n",
    "# user_id art_id user_art_count {user_artist_rating.test  user_artist_rating.train}\n",
    "# user_id friend_id {v1_user_friends.dat}"
   ]
  },
  {
   "cell_type": "code",
   "execution_count": 3,
   "metadata": {
    "collapsed": true
   },
   "outputs": [],
   "source": [
    "userfriends = np.loadtxt(\"/home/eliezer/datasets/hetrec2011/lastfm/p85_train_test_9208/user_artist_rating.test\", delimiter='\\t',dtype=int)\n"
   ]
  },
  {
   "cell_type": "code",
   "execution_count": 7,
   "metadata": {
    "collapsed": false
   },
   "outputs": [
    {
     "data": {
      "text/plain": [
       "array([1185,  492,  135])"
      ]
     },
     "execution_count": 7,
     "metadata": {},
     "output_type": "execute_result"
    }
   ],
   "source": [
    "userfriends[11685]"
   ]
  },
  {
   "cell_type": "code",
   "execution_count": 9,
   "metadata": {
    "collapsed": false
   },
   "outputs": [
    {
     "data": {
      "text/plain": [
       "array([   0,    0,    0, ..., 1891, 1891, 1891])"
      ]
     },
     "execution_count": 9,
     "metadata": {},
     "output_type": "execute_result"
    }
   ],
   "source": [
    "userfriends[:,0]"
   ]
  },
  {
   "cell_type": "code",
   "execution_count": null,
   "metadata": {
    "collapsed": true
   },
   "outputs": [],
   "source": []
  }
 ],
 "metadata": {
  "kernelspec": {
   "display_name": "Python 2",
   "language": "python",
   "name": "python2"
  },
  "language_info": {
   "codemirror_mode": {
    "name": "ipython",
    "version": 2
   },
   "file_extension": ".py",
   "mimetype": "text/x-python",
   "name": "python",
   "nbconvert_exporter": "python",
   "pygments_lexer": "ipython2",
   "version": "2.7.6"
  }
 },
 "nbformat": 4,
 "nbformat_minor": 1
}
